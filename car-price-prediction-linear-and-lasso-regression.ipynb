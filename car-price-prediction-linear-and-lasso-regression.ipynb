{
 "cells": [
  {
   "cell_type": "markdown",
   "id": "41a8f36f",
   "metadata": {
    "papermill": {
     "duration": 0.008134,
     "end_time": "2023-05-01T14:28:36.312182",
     "exception": false,
     "start_time": "2023-05-01T14:28:36.304048",
     "status": "completed"
    },
    "tags": []
   },
   "source": [
    "### 1. [Preparing Data](#1)\n",
    "### 2. [Model Training](#2)\n",
    "### 3. [Model Evaluation](#3)\n",
    "        1-Linear Regression\n",
    "        2-Lasso  Regression\n",
    "\n",
    "\n"
   ]
  },
  {
   "cell_type": "code",
   "execution_count": 1,
   "id": "df0ea2ef",
   "metadata": {
    "execution": {
     "iopub.execute_input": "2023-05-01T14:28:36.328725Z",
     "iopub.status.busy": "2023-05-01T14:28:36.327938Z",
     "iopub.status.idle": "2023-05-01T14:28:37.771918Z",
     "shell.execute_reply": "2023-05-01T14:28:37.770569Z"
    },
    "papermill": {
     "duration": 1.455599,
     "end_time": "2023-05-01T14:28:37.774901",
     "exception": false,
     "start_time": "2023-05-01T14:28:36.319302",
     "status": "completed"
    },
    "tags": []
   },
   "outputs": [],
   "source": [
    "import pandas as pd\n",
    "import matplotlib.pyplot as plt\n",
    "import seaborn as sns\n",
    "from sklearn.model_selection import train_test_split\n",
    "from sklearn.linear_model import LinearRegression\n",
    "from sklearn.linear_model import Lasso\n",
    "from sklearn import metrics"
   ]
  },
  {
   "cell_type": "markdown",
   "id": "886deca1",
   "metadata": {
    "papermill": {
     "duration": 0.006539,
     "end_time": "2023-05-01T14:28:37.788322",
     "exception": false,
     "start_time": "2023-05-01T14:28:37.781783",
     "status": "completed"
    },
    "tags": []
   },
   "source": [
    "<a id='1'></a>\n",
    "### 1.Preparing Data\n"
   ]
  },
  {
   "cell_type": "code",
   "execution_count": 2,
   "id": "09f8b4a3",
   "metadata": {
    "execution": {
     "iopub.execute_input": "2023-05-01T14:28:37.803712Z",
     "iopub.status.busy": "2023-05-01T14:28:37.803272Z",
     "iopub.status.idle": "2023-05-01T14:28:37.848295Z",
     "shell.execute_reply": "2023-05-01T14:28:37.847003Z"
    },
    "papermill": {
     "duration": 0.056007,
     "end_time": "2023-05-01T14:28:37.851066",
     "exception": false,
     "start_time": "2023-05-01T14:28:37.795059",
     "status": "completed"
    },
    "tags": []
   },
   "outputs": [],
   "source": [
    "df = pd.read_csv(\"/kaggle/input/vehicle-dataset-from-cardekho/car data.csv\")"
   ]
  },
  {
   "cell_type": "code",
   "execution_count": 3,
   "id": "af004919",
   "metadata": {
    "execution": {
     "iopub.execute_input": "2023-05-01T14:28:37.866506Z",
     "iopub.status.busy": "2023-05-01T14:28:37.866092Z",
     "iopub.status.idle": "2023-05-01T14:28:37.874151Z",
     "shell.execute_reply": "2023-05-01T14:28:37.873012Z"
    },
    "papermill": {
     "duration": 0.018754,
     "end_time": "2023-05-01T14:28:37.876789",
     "exception": false,
     "start_time": "2023-05-01T14:28:37.858035",
     "status": "completed"
    },
    "tags": []
   },
   "outputs": [
    {
     "data": {
      "text/plain": [
       "(301, 9)"
      ]
     },
     "execution_count": 3,
     "metadata": {},
     "output_type": "execute_result"
    }
   ],
   "source": [
    "df.shape"
   ]
  },
  {
   "cell_type": "code",
   "execution_count": 4,
   "id": "9557b804",
   "metadata": {
    "execution": {
     "iopub.execute_input": "2023-05-01T14:28:37.892572Z",
     "iopub.status.busy": "2023-05-01T14:28:37.892148Z",
     "iopub.status.idle": "2023-05-01T14:28:37.918658Z",
     "shell.execute_reply": "2023-05-01T14:28:37.916901Z"
    },
    "papermill": {
     "duration": 0.037087,
     "end_time": "2023-05-01T14:28:37.920961",
     "exception": false,
     "start_time": "2023-05-01T14:28:37.883874",
     "status": "completed"
    },
    "tags": []
   },
   "outputs": [
    {
     "name": "stdout",
     "output_type": "stream",
     "text": [
      "<class 'pandas.core.frame.DataFrame'>\n",
      "RangeIndex: 301 entries, 0 to 300\n",
      "Data columns (total 9 columns):\n",
      " #   Column         Non-Null Count  Dtype  \n",
      "---  ------         --------------  -----  \n",
      " 0   Car_Name       301 non-null    object \n",
      " 1   Year           301 non-null    int64  \n",
      " 2   Selling_Price  301 non-null    float64\n",
      " 3   Present_Price  301 non-null    float64\n",
      " 4   Kms_Driven     301 non-null    int64  \n",
      " 5   Fuel_Type      301 non-null    object \n",
      " 6   Seller_Type    301 non-null    object \n",
      " 7   Transmission   301 non-null    object \n",
      " 8   Owner          301 non-null    int64  \n",
      "dtypes: float64(2), int64(3), object(4)\n",
      "memory usage: 21.3+ KB\n"
     ]
    }
   ],
   "source": [
    "df.info()"
   ]
  },
  {
   "cell_type": "code",
   "execution_count": 5,
   "id": "d0156d90",
   "metadata": {
    "execution": {
     "iopub.execute_input": "2023-05-01T14:28:37.937172Z",
     "iopub.status.busy": "2023-05-01T14:28:37.936382Z",
     "iopub.status.idle": "2023-05-01T14:28:37.945968Z",
     "shell.execute_reply": "2023-05-01T14:28:37.944891Z"
    },
    "papermill": {
     "duration": 0.020259,
     "end_time": "2023-05-01T14:28:37.948349",
     "exception": false,
     "start_time": "2023-05-01T14:28:37.928090",
     "status": "completed"
    },
    "tags": []
   },
   "outputs": [
    {
     "data": {
      "text/plain": [
       "Car_Name         0\n",
       "Year             0\n",
       "Selling_Price    0\n",
       "Present_Price    0\n",
       "Kms_Driven       0\n",
       "Fuel_Type        0\n",
       "Seller_Type      0\n",
       "Transmission     0\n",
       "Owner            0\n",
       "dtype: int64"
      ]
     },
     "execution_count": 5,
     "metadata": {},
     "output_type": "execute_result"
    }
   ],
   "source": [
    "df.isnull().sum()"
   ]
  },
  {
   "cell_type": "code",
   "execution_count": 6,
   "id": "8f151cac",
   "metadata": {
    "execution": {
     "iopub.execute_input": "2023-05-01T14:28:37.965655Z",
     "iopub.status.busy": "2023-05-01T14:28:37.964304Z",
     "iopub.status.idle": "2023-05-01T14:28:37.992705Z",
     "shell.execute_reply": "2023-05-01T14:28:37.991625Z"
    },
    "papermill": {
     "duration": 0.039255,
     "end_time": "2023-05-01T14:28:37.994944",
     "exception": false,
     "start_time": "2023-05-01T14:28:37.955689",
     "status": "completed"
    },
    "tags": []
   },
   "outputs": [
    {
     "data": {
      "text/html": [
       "<div>\n",
       "<style scoped>\n",
       "    .dataframe tbody tr th:only-of-type {\n",
       "        vertical-align: middle;\n",
       "    }\n",
       "\n",
       "    .dataframe tbody tr th {\n",
       "        vertical-align: top;\n",
       "    }\n",
       "\n",
       "    .dataframe thead th {\n",
       "        text-align: right;\n",
       "    }\n",
       "</style>\n",
       "<table border=\"1\" class=\"dataframe\">\n",
       "  <thead>\n",
       "    <tr style=\"text-align: right;\">\n",
       "      <th></th>\n",
       "      <th>Car_Name</th>\n",
       "      <th>Year</th>\n",
       "      <th>Selling_Price</th>\n",
       "      <th>Present_Price</th>\n",
       "      <th>Kms_Driven</th>\n",
       "      <th>Fuel_Type</th>\n",
       "      <th>Seller_Type</th>\n",
       "      <th>Transmission</th>\n",
       "      <th>Owner</th>\n",
       "    </tr>\n",
       "  </thead>\n",
       "  <tbody>\n",
       "    <tr>\n",
       "      <th>0</th>\n",
       "      <td>ritz</td>\n",
       "      <td>2014</td>\n",
       "      <td>3.35</td>\n",
       "      <td>5.59</td>\n",
       "      <td>27000</td>\n",
       "      <td>Petrol</td>\n",
       "      <td>Dealer</td>\n",
       "      <td>Manual</td>\n",
       "      <td>0</td>\n",
       "    </tr>\n",
       "    <tr>\n",
       "      <th>1</th>\n",
       "      <td>sx4</td>\n",
       "      <td>2013</td>\n",
       "      <td>4.75</td>\n",
       "      <td>9.54</td>\n",
       "      <td>43000</td>\n",
       "      <td>Diesel</td>\n",
       "      <td>Dealer</td>\n",
       "      <td>Manual</td>\n",
       "      <td>0</td>\n",
       "    </tr>\n",
       "    <tr>\n",
       "      <th>2</th>\n",
       "      <td>ciaz</td>\n",
       "      <td>2017</td>\n",
       "      <td>7.25</td>\n",
       "      <td>9.85</td>\n",
       "      <td>6900</td>\n",
       "      <td>Petrol</td>\n",
       "      <td>Dealer</td>\n",
       "      <td>Manual</td>\n",
       "      <td>0</td>\n",
       "    </tr>\n",
       "    <tr>\n",
       "      <th>3</th>\n",
       "      <td>wagon r</td>\n",
       "      <td>2011</td>\n",
       "      <td>2.85</td>\n",
       "      <td>4.15</td>\n",
       "      <td>5200</td>\n",
       "      <td>Petrol</td>\n",
       "      <td>Dealer</td>\n",
       "      <td>Manual</td>\n",
       "      <td>0</td>\n",
       "    </tr>\n",
       "    <tr>\n",
       "      <th>4</th>\n",
       "      <td>swift</td>\n",
       "      <td>2014</td>\n",
       "      <td>4.60</td>\n",
       "      <td>6.87</td>\n",
       "      <td>42450</td>\n",
       "      <td>Diesel</td>\n",
       "      <td>Dealer</td>\n",
       "      <td>Manual</td>\n",
       "      <td>0</td>\n",
       "    </tr>\n",
       "    <tr>\n",
       "      <th>5</th>\n",
       "      <td>vitara brezza</td>\n",
       "      <td>2018</td>\n",
       "      <td>9.25</td>\n",
       "      <td>9.83</td>\n",
       "      <td>2071</td>\n",
       "      <td>Diesel</td>\n",
       "      <td>Dealer</td>\n",
       "      <td>Manual</td>\n",
       "      <td>0</td>\n",
       "    </tr>\n",
       "    <tr>\n",
       "      <th>6</th>\n",
       "      <td>ciaz</td>\n",
       "      <td>2015</td>\n",
       "      <td>6.75</td>\n",
       "      <td>8.12</td>\n",
       "      <td>18796</td>\n",
       "      <td>Petrol</td>\n",
       "      <td>Dealer</td>\n",
       "      <td>Manual</td>\n",
       "      <td>0</td>\n",
       "    </tr>\n",
       "    <tr>\n",
       "      <th>7</th>\n",
       "      <td>s cross</td>\n",
       "      <td>2015</td>\n",
       "      <td>6.50</td>\n",
       "      <td>8.61</td>\n",
       "      <td>33429</td>\n",
       "      <td>Diesel</td>\n",
       "      <td>Dealer</td>\n",
       "      <td>Manual</td>\n",
       "      <td>0</td>\n",
       "    </tr>\n",
       "    <tr>\n",
       "      <th>8</th>\n",
       "      <td>ciaz</td>\n",
       "      <td>2016</td>\n",
       "      <td>8.75</td>\n",
       "      <td>8.89</td>\n",
       "      <td>20273</td>\n",
       "      <td>Diesel</td>\n",
       "      <td>Dealer</td>\n",
       "      <td>Manual</td>\n",
       "      <td>0</td>\n",
       "    </tr>\n",
       "    <tr>\n",
       "      <th>9</th>\n",
       "      <td>ciaz</td>\n",
       "      <td>2015</td>\n",
       "      <td>7.45</td>\n",
       "      <td>8.92</td>\n",
       "      <td>42367</td>\n",
       "      <td>Diesel</td>\n",
       "      <td>Dealer</td>\n",
       "      <td>Manual</td>\n",
       "      <td>0</td>\n",
       "    </tr>\n",
       "  </tbody>\n",
       "</table>\n",
       "</div>"
      ],
      "text/plain": [
       "        Car_Name  Year  Selling_Price  Present_Price  Kms_Driven Fuel_Type  \\\n",
       "0           ritz  2014           3.35           5.59       27000    Petrol   \n",
       "1            sx4  2013           4.75           9.54       43000    Diesel   \n",
       "2           ciaz  2017           7.25           9.85        6900    Petrol   \n",
       "3        wagon r  2011           2.85           4.15        5200    Petrol   \n",
       "4          swift  2014           4.60           6.87       42450    Diesel   \n",
       "5  vitara brezza  2018           9.25           9.83        2071    Diesel   \n",
       "6           ciaz  2015           6.75           8.12       18796    Petrol   \n",
       "7        s cross  2015           6.50           8.61       33429    Diesel   \n",
       "8           ciaz  2016           8.75           8.89       20273    Diesel   \n",
       "9           ciaz  2015           7.45           8.92       42367    Diesel   \n",
       "\n",
       "  Seller_Type Transmission  Owner  \n",
       "0      Dealer       Manual      0  \n",
       "1      Dealer       Manual      0  \n",
       "2      Dealer       Manual      0  \n",
       "3      Dealer       Manual      0  \n",
       "4      Dealer       Manual      0  \n",
       "5      Dealer       Manual      0  \n",
       "6      Dealer       Manual      0  \n",
       "7      Dealer       Manual      0  \n",
       "8      Dealer       Manual      0  \n",
       "9      Dealer       Manual      0  "
      ]
     },
     "execution_count": 6,
     "metadata": {},
     "output_type": "execute_result"
    }
   ],
   "source": [
    "df.head(10)"
   ]
  },
  {
   "cell_type": "code",
   "execution_count": 7,
   "id": "482d2a0a",
   "metadata": {
    "execution": {
     "iopub.execute_input": "2023-05-01T14:28:38.013435Z",
     "iopub.status.busy": "2023-05-01T14:28:38.012700Z",
     "iopub.status.idle": "2023-05-01T14:28:38.022057Z",
     "shell.execute_reply": "2023-05-01T14:28:38.020958Z"
    },
    "papermill": {
     "duration": 0.020573,
     "end_time": "2023-05-01T14:28:38.024244",
     "exception": false,
     "start_time": "2023-05-01T14:28:38.003671",
     "status": "completed"
    },
    "tags": []
   },
   "outputs": [
    {
     "name": "stdout",
     "output_type": "stream",
     "text": [
      "Petrol    239\n",
      "Diesel     60\n",
      "CNG         2\n",
      "Name: Fuel_Type, dtype: int64\n",
      "Dealer        195\n",
      "Individual    106\n",
      "Name: Seller_Type, dtype: int64\n",
      "Manual       261\n",
      "Automatic     40\n",
      "Name: Transmission, dtype: int64\n"
     ]
    }
   ],
   "source": [
    "print(df.Fuel_Type.value_counts())\n",
    "print(df.Seller_Type.value_counts())\n",
    "print(df.Transmission.value_counts())"
   ]
  },
  {
   "cell_type": "code",
   "execution_count": 8,
   "id": "c93f7c8a",
   "metadata": {
    "execution": {
     "iopub.execute_input": "2023-05-01T14:28:38.041449Z",
     "iopub.status.busy": "2023-05-01T14:28:38.040438Z",
     "iopub.status.idle": "2023-05-01T14:28:38.050081Z",
     "shell.execute_reply": "2023-05-01T14:28:38.048851Z"
    },
    "papermill": {
     "duration": 0.020546,
     "end_time": "2023-05-01T14:28:38.052309",
     "exception": false,
     "start_time": "2023-05-01T14:28:38.031763",
     "status": "completed"
    },
    "tags": []
   },
   "outputs": [],
   "source": [
    "df.replace({\"Fuel_Type\":{\"Petrol\":0,\"Diesel\":1,\"CNG\":2},\n",
    "           \"Seller_Type\":{\"Dealer\":0,\"Individual\":1},\n",
    "           \"Transmission\":{\"Manual\":0,\"Automatic\":1}},inplace=True)\n"
   ]
  },
  {
   "cell_type": "code",
   "execution_count": 9,
   "id": "8df49f32",
   "metadata": {
    "execution": {
     "iopub.execute_input": "2023-05-01T14:28:38.069716Z",
     "iopub.status.busy": "2023-05-01T14:28:38.069238Z",
     "iopub.status.idle": "2023-05-01T14:28:38.077991Z",
     "shell.execute_reply": "2023-05-01T14:28:38.076765Z"
    },
    "papermill": {
     "duration": 0.020529,
     "end_time": "2023-05-01T14:28:38.080616",
     "exception": false,
     "start_time": "2023-05-01T14:28:38.060087",
     "status": "completed"
    },
    "tags": []
   },
   "outputs": [],
   "source": [
    "x = df.drop(['Car_Name','Selling_Price'],axis=1)\n",
    "y = df['Selling_Price']"
   ]
  },
  {
   "cell_type": "code",
   "execution_count": 10,
   "id": "e5496c03",
   "metadata": {
    "execution": {
     "iopub.execute_input": "2023-05-01T14:28:38.098142Z",
     "iopub.status.busy": "2023-05-01T14:28:38.097717Z",
     "iopub.status.idle": "2023-05-01T14:28:38.117225Z",
     "shell.execute_reply": "2023-05-01T14:28:38.116251Z"
    },
    "papermill": {
     "duration": 0.031248,
     "end_time": "2023-05-01T14:28:38.119941",
     "exception": false,
     "start_time": "2023-05-01T14:28:38.088693",
     "status": "completed"
    },
    "tags": []
   },
   "outputs": [
    {
     "data": {
      "text/html": [
       "<div>\n",
       "<style scoped>\n",
       "    .dataframe tbody tr th:only-of-type {\n",
       "        vertical-align: middle;\n",
       "    }\n",
       "\n",
       "    .dataframe tbody tr th {\n",
       "        vertical-align: top;\n",
       "    }\n",
       "\n",
       "    .dataframe thead th {\n",
       "        text-align: right;\n",
       "    }\n",
       "</style>\n",
       "<table border=\"1\" class=\"dataframe\">\n",
       "  <thead>\n",
       "    <tr style=\"text-align: right;\">\n",
       "      <th></th>\n",
       "      <th>Car_Name</th>\n",
       "      <th>Year</th>\n",
       "      <th>Selling_Price</th>\n",
       "      <th>Present_Price</th>\n",
       "      <th>Kms_Driven</th>\n",
       "      <th>Fuel_Type</th>\n",
       "      <th>Seller_Type</th>\n",
       "      <th>Transmission</th>\n",
       "      <th>Owner</th>\n",
       "    </tr>\n",
       "  </thead>\n",
       "  <tbody>\n",
       "    <tr>\n",
       "      <th>0</th>\n",
       "      <td>ritz</td>\n",
       "      <td>2014</td>\n",
       "      <td>3.35</td>\n",
       "      <td>5.59</td>\n",
       "      <td>27000</td>\n",
       "      <td>0</td>\n",
       "      <td>0</td>\n",
       "      <td>0</td>\n",
       "      <td>0</td>\n",
       "    </tr>\n",
       "    <tr>\n",
       "      <th>1</th>\n",
       "      <td>sx4</td>\n",
       "      <td>2013</td>\n",
       "      <td>4.75</td>\n",
       "      <td>9.54</td>\n",
       "      <td>43000</td>\n",
       "      <td>1</td>\n",
       "      <td>0</td>\n",
       "      <td>0</td>\n",
       "      <td>0</td>\n",
       "    </tr>\n",
       "    <tr>\n",
       "      <th>2</th>\n",
       "      <td>ciaz</td>\n",
       "      <td>2017</td>\n",
       "      <td>7.25</td>\n",
       "      <td>9.85</td>\n",
       "      <td>6900</td>\n",
       "      <td>0</td>\n",
       "      <td>0</td>\n",
       "      <td>0</td>\n",
       "      <td>0</td>\n",
       "    </tr>\n",
       "    <tr>\n",
       "      <th>3</th>\n",
       "      <td>wagon r</td>\n",
       "      <td>2011</td>\n",
       "      <td>2.85</td>\n",
       "      <td>4.15</td>\n",
       "      <td>5200</td>\n",
       "      <td>0</td>\n",
       "      <td>0</td>\n",
       "      <td>0</td>\n",
       "      <td>0</td>\n",
       "    </tr>\n",
       "    <tr>\n",
       "      <th>4</th>\n",
       "      <td>swift</td>\n",
       "      <td>2014</td>\n",
       "      <td>4.60</td>\n",
       "      <td>6.87</td>\n",
       "      <td>42450</td>\n",
       "      <td>1</td>\n",
       "      <td>0</td>\n",
       "      <td>0</td>\n",
       "      <td>0</td>\n",
       "    </tr>\n",
       "    <tr>\n",
       "      <th>...</th>\n",
       "      <td>...</td>\n",
       "      <td>...</td>\n",
       "      <td>...</td>\n",
       "      <td>...</td>\n",
       "      <td>...</td>\n",
       "      <td>...</td>\n",
       "      <td>...</td>\n",
       "      <td>...</td>\n",
       "      <td>...</td>\n",
       "    </tr>\n",
       "    <tr>\n",
       "      <th>95</th>\n",
       "      <td>corolla altis</td>\n",
       "      <td>2012</td>\n",
       "      <td>5.85</td>\n",
       "      <td>18.61</td>\n",
       "      <td>72000</td>\n",
       "      <td>0</td>\n",
       "      <td>0</td>\n",
       "      <td>0</td>\n",
       "      <td>0</td>\n",
       "    </tr>\n",
       "    <tr>\n",
       "      <th>96</th>\n",
       "      <td>innova</td>\n",
       "      <td>2016</td>\n",
       "      <td>20.75</td>\n",
       "      <td>25.39</td>\n",
       "      <td>29000</td>\n",
       "      <td>1</td>\n",
       "      <td>0</td>\n",
       "      <td>1</td>\n",
       "      <td>0</td>\n",
       "    </tr>\n",
       "    <tr>\n",
       "      <th>97</th>\n",
       "      <td>corolla altis</td>\n",
       "      <td>2017</td>\n",
       "      <td>17.00</td>\n",
       "      <td>18.64</td>\n",
       "      <td>8700</td>\n",
       "      <td>0</td>\n",
       "      <td>0</td>\n",
       "      <td>0</td>\n",
       "      <td>0</td>\n",
       "    </tr>\n",
       "    <tr>\n",
       "      <th>98</th>\n",
       "      <td>corolla altis</td>\n",
       "      <td>2013</td>\n",
       "      <td>7.05</td>\n",
       "      <td>18.61</td>\n",
       "      <td>45000</td>\n",
       "      <td>0</td>\n",
       "      <td>0</td>\n",
       "      <td>0</td>\n",
       "      <td>0</td>\n",
       "    </tr>\n",
       "    <tr>\n",
       "      <th>99</th>\n",
       "      <td>fortuner</td>\n",
       "      <td>2010</td>\n",
       "      <td>9.65</td>\n",
       "      <td>20.45</td>\n",
       "      <td>50024</td>\n",
       "      <td>1</td>\n",
       "      <td>0</td>\n",
       "      <td>0</td>\n",
       "      <td>0</td>\n",
       "    </tr>\n",
       "  </tbody>\n",
       "</table>\n",
       "<p>100 rows × 9 columns</p>\n",
       "</div>"
      ],
      "text/plain": [
       "         Car_Name  Year  Selling_Price  Present_Price  Kms_Driven  Fuel_Type  \\\n",
       "0            ritz  2014           3.35           5.59       27000          0   \n",
       "1             sx4  2013           4.75           9.54       43000          1   \n",
       "2            ciaz  2017           7.25           9.85        6900          0   \n",
       "3         wagon r  2011           2.85           4.15        5200          0   \n",
       "4           swift  2014           4.60           6.87       42450          1   \n",
       "..            ...   ...            ...            ...         ...        ...   \n",
       "95  corolla altis  2012           5.85          18.61       72000          0   \n",
       "96         innova  2016          20.75          25.39       29000          1   \n",
       "97  corolla altis  2017          17.00          18.64        8700          0   \n",
       "98  corolla altis  2013           7.05          18.61       45000          0   \n",
       "99       fortuner  2010           9.65          20.45       50024          1   \n",
       "\n",
       "    Seller_Type  Transmission  Owner  \n",
       "0             0             0      0  \n",
       "1             0             0      0  \n",
       "2             0             0      0  \n",
       "3             0             0      0  \n",
       "4             0             0      0  \n",
       "..          ...           ...    ...  \n",
       "95            0             0      0  \n",
       "96            0             1      0  \n",
       "97            0             0      0  \n",
       "98            0             0      0  \n",
       "99            0             0      0  \n",
       "\n",
       "[100 rows x 9 columns]"
      ]
     },
     "execution_count": 10,
     "metadata": {},
     "output_type": "execute_result"
    }
   ],
   "source": [
    "df.head(100)"
   ]
  },
  {
   "cell_type": "markdown",
   "id": "ae66c041",
   "metadata": {
    "papermill": {
     "duration": 0.007707,
     "end_time": "2023-05-01T14:28:38.135914",
     "exception": false,
     "start_time": "2023-05-01T14:28:38.128207",
     "status": "completed"
    },
    "tags": []
   },
   "source": [
    "<a id='2'></a>\n",
    "### 2.Model Training\n"
   ]
  },
  {
   "cell_type": "code",
   "execution_count": 11,
   "id": "168784ff",
   "metadata": {
    "execution": {
     "iopub.execute_input": "2023-05-01T14:28:38.154479Z",
     "iopub.status.busy": "2023-05-01T14:28:38.153681Z",
     "iopub.status.idle": "2023-05-01T14:28:38.162963Z",
     "shell.execute_reply": "2023-05-01T14:28:38.161453Z"
    },
    "papermill": {
     "duration": 0.021711,
     "end_time": "2023-05-01T14:28:38.165728",
     "exception": false,
     "start_time": "2023-05-01T14:28:38.144017",
     "status": "completed"
    },
    "tags": []
   },
   "outputs": [],
   "source": [
    "x_train,x_test,y_train,y_test = train_test_split(x,y,test_size=0.1,random_state=42)"
   ]
  },
  {
   "cell_type": "code",
   "execution_count": 12,
   "id": "0e45e222",
   "metadata": {
    "execution": {
     "iopub.execute_input": "2023-05-01T14:28:38.184627Z",
     "iopub.status.busy": "2023-05-01T14:28:38.183450Z",
     "iopub.status.idle": "2023-05-01T14:28:38.188713Z",
     "shell.execute_reply": "2023-05-01T14:28:38.187744Z"
    },
    "papermill": {
     "duration": 0.017101,
     "end_time": "2023-05-01T14:28:38.191042",
     "exception": false,
     "start_time": "2023-05-01T14:28:38.173941",
     "status": "completed"
    },
    "tags": []
   },
   "outputs": [],
   "source": [
    "lin_reg_model = LinearRegression()"
   ]
  },
  {
   "cell_type": "code",
   "execution_count": 13,
   "id": "0e417bcb",
   "metadata": {
    "execution": {
     "iopub.execute_input": "2023-05-01T14:28:38.208754Z",
     "iopub.status.busy": "2023-05-01T14:28:38.208282Z",
     "iopub.status.idle": "2023-05-01T14:28:38.236978Z",
     "shell.execute_reply": "2023-05-01T14:28:38.235910Z"
    },
    "papermill": {
     "duration": 0.040294,
     "end_time": "2023-05-01T14:28:38.239309",
     "exception": false,
     "start_time": "2023-05-01T14:28:38.199015",
     "status": "completed"
    },
    "tags": []
   },
   "outputs": [
    {
     "data": {
      "text/plain": [
       "LinearRegression()"
      ]
     },
     "execution_count": 13,
     "metadata": {},
     "output_type": "execute_result"
    }
   ],
   "source": [
    "lin_reg_model.fit(x_train,y_train)"
   ]
  },
  {
   "cell_type": "markdown",
   "id": "86caa113",
   "metadata": {
    "papermill": {
     "duration": 0.007899,
     "end_time": "2023-05-01T14:28:38.255487",
     "exception": false,
     "start_time": "2023-05-01T14:28:38.247588",
     "status": "completed"
    },
    "tags": []
   },
   "source": [
    "<a id='3'></a>\n",
    "### 3.Model Evaluation\n",
    "\n",
    "    1-Linear Regression\n",
    "    2-Lasso Regression"
   ]
  },
  {
   "cell_type": "markdown",
   "id": "28dffbcc",
   "metadata": {
    "papermill": {
     "duration": 0.007776,
     "end_time": "2023-05-01T14:28:38.271270",
     "exception": false,
     "start_time": "2023-05-01T14:28:38.263494",
     "status": "completed"
    },
    "tags": []
   },
   "source": [
    "#### 1-Linear Regression"
   ]
  },
  {
   "cell_type": "code",
   "execution_count": 14,
   "id": "52844e3a",
   "metadata": {
    "execution": {
     "iopub.execute_input": "2023-05-01T14:28:38.289817Z",
     "iopub.status.busy": "2023-05-01T14:28:38.288784Z",
     "iopub.status.idle": "2023-05-01T14:28:38.298064Z",
     "shell.execute_reply": "2023-05-01T14:28:38.296512Z"
    },
    "papermill": {
     "duration": 0.021295,
     "end_time": "2023-05-01T14:28:38.300707",
     "exception": false,
     "start_time": "2023-05-01T14:28:38.279412",
     "status": "completed"
    },
    "tags": []
   },
   "outputs": [
    {
     "name": "stdout",
     "output_type": "stream",
     "text": [
      "R squared Error : 0.8806173715719129\n"
     ]
    }
   ],
   "source": [
    "training_data_prediction = lin_reg_model.predict(x_train)\n",
    "error_score = metrics.r2_score(y_train, training_data_prediction)\n",
    "print(f\"R squared Error : {error_score}\")"
   ]
  },
  {
   "cell_type": "code",
   "execution_count": 15,
   "id": "93f451cd",
   "metadata": {
    "execution": {
     "iopub.execute_input": "2023-05-01T14:28:38.319022Z",
     "iopub.status.busy": "2023-05-01T14:28:38.318595Z",
     "iopub.status.idle": "2023-05-01T14:28:38.554844Z",
     "shell.execute_reply": "2023-05-01T14:28:38.553630Z"
    },
    "papermill": {
     "duration": 0.248498,
     "end_time": "2023-05-01T14:28:38.557495",
     "exception": false,
     "start_time": "2023-05-01T14:28:38.308997",
     "status": "completed"
    },
    "tags": []
   },
   "outputs": [
    {
     "data": {
      "image/png": "[encoded data removed]",
      "text/plain": [
       "<Figure size 640x480 with 1 Axes>"
      ]
     },
     "metadata": {},
     "output_type": "display_data"
    }
   ],
   "source": [
    "plt.scatter(y_train, training_data_prediction)\n",
    "plt.xlabel(\"Actual Price\")\n",
    "plt.ylabel(\"Predicted Price\")\n",
    "plt.title(\" Actual Prices vs Predicted Prices\")\n",
    "plt.show()"
   ]
  },
  {
   "cell_type": "code",
   "execution_count": 16,
   "id": "093b1bc2",
   "metadata": {
    "execution": {
     "iopub.execute_input": "2023-05-01T14:28:38.576904Z",
     "iopub.status.busy": "2023-05-01T14:28:38.576461Z",
     "iopub.status.idle": "2023-05-01T14:28:38.586741Z",
     "shell.execute_reply": "2023-05-01T14:28:38.585174Z"
    },
    "papermill": {
     "duration": 0.024159,
     "end_time": "2023-05-01T14:28:38.590446",
     "exception": false,
     "start_time": "2023-05-01T14:28:38.566287",
     "status": "completed"
    },
    "tags": []
   },
   "outputs": [
    {
     "name": "stdout",
     "output_type": "stream",
     "text": [
      "R squared Error : 0.8311069476244114\n"
     ]
    }
   ],
   "source": [
    "test_data_pred = lin_reg_model.predict(x_test)\n",
    "error_score = metrics.r2_score(y_test, test_data_pred)\n",
    "print(f\"R squared Error : {error_score}\")"
   ]
  },
  {
   "cell_type": "code",
   "execution_count": 17,
   "id": "f196a69a",
   "metadata": {
    "execution": {
     "iopub.execute_input": "2023-05-01T14:28:38.615726Z",
     "iopub.status.busy": "2023-05-01T14:28:38.615165Z",
     "iopub.status.idle": "2023-05-01T14:28:38.846493Z",
     "shell.execute_reply": "2023-05-01T14:28:38.844937Z"
    },
    "papermill": {
     "duration": 0.248043,
     "end_time": "2023-05-01T14:28:38.849749",
     "exception": false,
     "start_time": "2023-05-01T14:28:38.601706",
     "status": "completed"
    },
    "tags": []
   },
   "outputs": [
    {
     "data": {
      "image/png": "[encoded data removed]",
      "text/plain": [
       "<Figure size 640x480 with 1 Axes>"
      ]
     },
     "metadata": {},
     "output_type": "display_data"
    }
   ],
   "source": [
    "plt.scatter(y_test, test_data_pred)\n",
    "plt.xlabel(\"Actual Price\")\n",
    "plt.ylabel(\"Predicted Price\")\n",
    "plt.title(\" Actual Prices vs Predicted Prices\")\n",
    "plt.show()"
   ]
  },
  {
   "cell_type": "markdown",
   "id": "9327f03d",
   "metadata": {
    "papermill": {
     "duration": 0.009142,
     "end_time": "2023-05-01T14:28:38.869167",
     "exception": false,
     "start_time": "2023-05-01T14:28:38.860025",
     "status": "completed"
    },
    "tags": []
   },
   "source": [
    "#### 2-Lasso Regression"
   ]
  },
  {
   "cell_type": "code",
   "execution_count": 18,
   "id": "ba115a93",
   "metadata": {
    "execution": {
     "iopub.execute_input": "2023-05-01T14:28:38.890996Z",
     "iopub.status.busy": "2023-05-01T14:28:38.889721Z",
     "iopub.status.idle": "2023-05-01T14:28:38.896738Z",
     "shell.execute_reply": "2023-05-01T14:28:38.895277Z"
    },
    "papermill": {
     "duration": 0.021173,
     "end_time": "2023-05-01T14:28:38.899616",
     "exception": false,
     "start_time": "2023-05-01T14:28:38.878443",
     "status": "completed"
    },
    "tags": []
   },
   "outputs": [],
   "source": [
    "lass_reg_model = Lasso()"
   ]
  },
  {
   "cell_type": "code",
   "execution_count": 19,
   "id": "738d7074",
   "metadata": {
    "execution": {
     "iopub.execute_input": "2023-05-01T14:28:38.922003Z",
     "iopub.status.busy": "2023-05-01T14:28:38.920506Z",
     "iopub.status.idle": "2023-05-01T14:28:38.936320Z",
     "shell.execute_reply": "2023-05-01T14:28:38.935093Z"
    },
    "papermill": {
     "duration": 0.029557,
     "end_time": "2023-05-01T14:28:38.938859",
     "exception": false,
     "start_time": "2023-05-01T14:28:38.909302",
     "status": "completed"
    },
    "tags": []
   },
   "outputs": [
    {
     "data": {
      "text/plain": [
       "Lasso()"
      ]
     },
     "execution_count": 19,
     "metadata": {},
     "output_type": "execute_result"
    }
   ],
   "source": [
    "lass_reg_model.fit(x_train,y_train)"
   ]
  },
  {
   "cell_type": "code",
   "execution_count": 20,
   "id": "604036fe",
   "metadata": {
    "execution": {
     "iopub.execute_input": "2023-05-01T14:28:38.961618Z",
     "iopub.status.busy": "2023-05-01T14:28:38.960266Z",
     "iopub.status.idle": "2023-05-01T14:28:38.972041Z",
     "shell.execute_reply": "2023-05-01T14:28:38.970475Z"
    },
    "papermill": {
     "duration": 0.025919,
     "end_time": "2023-05-01T14:28:38.974607",
     "exception": false,
     "start_time": "2023-05-01T14:28:38.948688",
     "status": "completed"
    },
    "tags": []
   },
   "outputs": [
    {
     "name": "stdout",
     "output_type": "stream",
     "text": [
      "R squared Error : 0.8436909482009372\n"
     ]
    }
   ],
   "source": [
    "training_data_pred = lass_reg_model.predict(x_train)\n",
    "error_score = metrics.r2_score(y_train, training_data_pred)\n",
    "print(f\"R squared Error : {error_score}\")"
   ]
  },
  {
   "cell_type": "code",
   "execution_count": 21,
   "id": "bf32623d",
   "metadata": {
    "execution": {
     "iopub.execute_input": "2023-05-01T14:28:39.000788Z",
     "iopub.status.busy": "2023-05-01T14:28:38.999204Z",
     "iopub.status.idle": "2023-05-01T14:28:39.210880Z",
     "shell.execute_reply": "2023-05-01T14:28:39.209446Z"
    },
    "papermill": {
     "duration": 0.230053,
     "end_time": "2023-05-01T14:28:39.214239",
     "exception": false,
     "start_time": "2023-05-01T14:28:38.984186",
     "status": "completed"
    },
    "tags": []
   },
   "outputs": [
    {
     "data": {
      "image/png": "[encoded data removed]",
      "text/plain": [
       "<Figure size 640x480 with 1 Axes>"
      ]
     },
     "metadata": {},
     "output_type": "display_data"
    }
   ],
   "source": [
    "plt.scatter(y_train, training_data_pred)\n",
    "plt.xlabel(\"Actual Price\")\n",
    "plt.ylabel(\"Predicted Price\")\n",
    "plt.title(\" Actual Prices vs Predicted Prices\")\n",
    "plt.show()"
   ]
  },
  {
   "cell_type": "code",
   "execution_count": 22,
   "id": "49791a3e",
   "metadata": {
    "execution": {
     "iopub.execute_input": "2023-05-01T14:28:39.246673Z",
     "iopub.status.busy": "2023-05-01T14:28:39.245910Z",
     "iopub.status.idle": "2023-05-01T14:28:39.255746Z",
     "shell.execute_reply": "2023-05-01T14:28:39.254517Z"
    },
    "papermill": {
     "duration": 0.029235,
     "end_time": "2023-05-01T14:28:39.258840",
     "exception": false,
     "start_time": "2023-05-01T14:28:39.229605",
     "status": "completed"
    },
    "tags": []
   },
   "outputs": [
    {
     "name": "stdout",
     "output_type": "stream",
     "text": [
      "R squared Error :0.839226320049874 \n"
     ]
    }
   ],
   "source": [
    "test_data_prediction = lass_reg_model.predict(x_test)\n",
    "error_score = metrics.r2_score(y_test, test_data_prediction)\n",
    "print(f\"R squared Error :{error_score} \")"
   ]
  },
  {
   "cell_type": "code",
   "execution_count": 23,
   "id": "3b90d600",
   "metadata": {
    "execution": {
     "iopub.execute_input": "2023-05-01T14:28:39.291773Z",
     "iopub.status.busy": "2023-05-01T14:28:39.291261Z",
     "iopub.status.idle": "2023-05-01T14:28:39.511455Z",
     "shell.execute_reply": "2023-05-01T14:28:39.509963Z"
    },
    "papermill": {
     "duration": 0.240715,
     "end_time": "2023-05-01T14:28:39.515025",
     "exception": false,
     "start_time": "2023-05-01T14:28:39.274310",
     "status": "completed"
    },
    "tags": []
   },
   "outputs": [
    {
     "data": {
      "image/png": "[encoded data removed]",
      "text/plain": [
       "<Figure size 640x480 with 1 Axes>"
      ]
     },
     "metadata": {},
     "output_type": "display_data"
    }
   ],
   "source": [
    "plt.scatter(y_test, test_data_prediction)\n",
    "plt.xlabel(\"Actual Price\")\n",
    "plt.ylabel(\"Predicted Price\")\n",
    "plt.title(\" Actual Prices vs Predicted Prices\")\n",
    "plt.show()"
   ]
  }
 ],
 "metadata": {
  "kernelspec": {
   "display_name": "Python 3",
   "language": "python",
   "name": "python3"
  },
  "language_info": {
   "codemirror_mode": {
    "name": "ipython",
    "version": 3
   },
   "file_extension": ".py",
   "mimetype": "text/x-python",
   "name": "python",
   "nbconvert_exporter": "python",
   "pygments_lexer": "ipython3",
   "version": "3.7.12"
  },
  "papermill": {
   "default_parameters": {},
   "duration": 14.573026,
   "end_time": "2023-05-01T14:28:40.358173",
   "environment_variables": {},
   "exception": null,
   "input_path": "__notebook__.ipynb",
   "output_path": "__notebook__.ipynb",
   "parameters": {},
   "start_time": "2023-05-01T14:28:25.785147",
   "version": "2.4.0"
  }
 },
 "nbformat": 4,
 "nbformat_minor": 5
}
